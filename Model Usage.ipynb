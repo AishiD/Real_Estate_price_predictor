{
 "cells": [
  {
   "cell_type": "markdown",
   "id": "b932dec8-b2bc-4b88-af05-6c1d771874c4",
   "metadata": {},
   "source": [
    "## Testing the Model with test data"
   ]
  },
  {
   "cell_type": "code",
   "execution_count": 1,
   "id": "4ecf752f-2eb7-4785-9592-9a3ace3804f6",
   "metadata": {},
   "outputs": [],
   "source": [
    "from joblib import dump, load\n",
    "import numpy as np\n",
    "model = load('RealEstate.joblib')"
   ]
  },
  {
   "cell_type": "code",
   "execution_count": 2,
   "id": "8e3c4888-edf2-4948-808b-5e6a2b8f58f5",
   "metadata": {},
   "outputs": [
    {
     "data": {
      "text/plain": [
       "array([22.204])"
      ]
     },
     "execution_count": 2,
     "metadata": {},
     "output_type": "execute_result"
    }
   ],
   "source": [
    "features = np.array([[-0.52627201,  2.07362776, -1.02378804, -0.27288841, -1.42262747,\n",
    "       -0.24355604, -1.31238772,  2.61111401, -3.0016859 , -0.5778192 ,\n",
    "       -0.97491834,  0.41164221, -0.86091034]])\n",
    "model.predict(features)"
   ]
  },
  {
   "cell_type": "code",
   "execution_count": null,
   "id": "e441ed5c-b4a2-48cf-b5c8-4e3a8e8cbfc4",
   "metadata": {},
   "outputs": [],
   "source": []
  }
 ],
 "metadata": {
  "kernelspec": {
   "display_name": "Python 3 (ipykernel)",
   "language": "python",
   "name": "python3"
  },
  "language_info": {
   "codemirror_mode": {
    "name": "ipython",
    "version": 3
   },
   "file_extension": ".py",
   "mimetype": "text/x-python",
   "name": "python",
   "nbconvert_exporter": "python",
   "pygments_lexer": "ipython3",
   "version": "3.12.0"
  }
 },
 "nbformat": 4,
 "nbformat_minor": 5
}
